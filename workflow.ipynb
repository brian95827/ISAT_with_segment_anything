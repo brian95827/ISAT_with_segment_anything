{
 "cells": [
  {
   "cell_type": "markdown",
   "source": [
    "## 去除背景工作流"
   ],
   "metadata": {
    "collapsed": false
   }
  },
  {
   "cell_type": "markdown",
   "source": [
    "0.准备工作，将图片整理成1024*1024的结构大小(可选)"
   ],
   "metadata": {
    "collapsed": false
   }
  },
  {
   "cell_type": "code",
   "execution_count": null,
   "outputs": [],
   "source": [
    "directory_path = r\"G:\\xiaowu-pic\\test1\"\n",
    "output_dir = r'G:\\xiaowu-pic\\test22'"
   ],
   "metadata": {
    "collapsed": false
   }
  },
  {
   "cell_type": "code",
   "execution_count": null,
   "outputs": [],
   "source": [
    "%cd $directory_path\n",
    "# 创建目录，如果目录不存在的话\n",
    "!mkdir $output_dir\n",
    "# 将目录下的所有图片整理成 1024 * 1024的格式\n",
    "!for %i in (*.png) do ffmpeg -i \"%i\" -vf scale=1024:1024 \"{output_dir}\\\\%~ni_new.png\""
   ],
   "metadata": {
    "collapsed": false
   }
  },
  {
   "cell_type": "markdown",
   "source": [
    "1.将四通道图片转成三通道图片"
   ],
   "metadata": {
    "collapsed": false
   }
  },
  {
   "cell_type": "code",
   "execution_count": null,
   "outputs": [],
   "source": [
    "# 设置四通道文件目录（source_folder）, 输出目录（target_folder）\n",
    "source_folder = r'G:\\xiaowu-pic\\133_select_new'\n",
    "target_folder = r'G:\\xiaowu-pic\\test22'"
   ],
   "metadata": {
    "collapsed": false
   }
  },
  {
   "cell_type": "code",
   "execution_count": null,
   "outputs": [],
   "source": [
    "from ISAT.scripts.rgba2rgb import convert_images\n",
    "convert_images(source_folder, target_folder)"
   ],
   "metadata": {
    "collapsed": false
   }
  },
  {
   "cell_type": "markdown",
   "source": [
    "2.启动遮罩程序，画遮罩"
   ],
   "metadata": {
    "collapsed": false
   }
  },
  {
   "cell_type": "code",
   "execution_count": 39,
   "outputs": [
    {
     "name": "stdout",
     "output_type": "stream",
     "text": [
      "F:\\pythonProject\\ISAT_with_segment_anything\n",
      "{'label': [{'color': '#000000', 'name': '__background__'}, {'color': '#ef2929', 'name': 'person'}, {'color': '#fcaf3e', 'name': 'knife'}, {'color': '#fce94f', 'name': 'fork'}, {'color': '#8ae234', 'name': 'cup'}, {'color': '#729fcf', 'name': 'giraffe'}, {'color': '#ad7fa8', 'name': 'plate'}, {'color': '#e9b96e', 'name': 'table'}, {'color': '#a40000', 'name': 'cake'}, {'color': '#5c3566', 'name': 'fence'}, {'color': '#204a87', 'name': 'hat'}], 'software': {'contour_mode': 'max_only', 'language': 'zh', 'mask_alpha': 1.0, 'show_edge': True, 'show_prompt': True, 'use_bfloat16': False, 'use_polydp': True, 'vertex_size': 3}}\n",
      "- device  : cuda\n",
      "- dtype   : torch.float32\n",
      "- loading : F:\\pythonProject\\ISAT_with_segment_anything\\ISAT\\checkpoints\\sam_hq_vit_l.pth\n",
      "<All keys matched successfully>\n",
      "- loaded\n"
     ]
    },
    {
     "name": "stderr",
     "output_type": "stream",
     "text": [
      "F:\\pythonProject\\ISAT_with_segment_anything\\ISAT\\segment_any\\segment_anything_hq\\modeling\\tiny_vit_sam.py:662: UserWarning: Overwriting tiny_vit_5m_224 in registry with ISAT.segment_any.segment_anything_hq.modeling.tiny_vit_sam.tiny_vit_5m_224. This is because the name being registered conflicts with an existing name. Please check if this is not expected.\n",
      "  return register_model(fn_wrapper)\n",
      "F:\\pythonProject\\ISAT_with_segment_anything\\ISAT\\segment_any\\segment_anything_hq\\modeling\\tiny_vit_sam.py:662: UserWarning: Overwriting tiny_vit_11m_224 in registry with ISAT.segment_any.segment_anything_hq.modeling.tiny_vit_sam.tiny_vit_11m_224. This is because the name being registered conflicts with an existing name. Please check if this is not expected.\n",
      "  return register_model(fn_wrapper)\n",
      "F:\\pythonProject\\ISAT_with_segment_anything\\ISAT\\segment_any\\segment_anything_hq\\modeling\\tiny_vit_sam.py:662: UserWarning: Overwriting tiny_vit_21m_224 in registry with ISAT.segment_any.segment_anything_hq.modeling.tiny_vit_sam.tiny_vit_21m_224. This is because the name being registered conflicts with an existing name. Please check if this is not expected.\n",
      "  return register_model(fn_wrapper)\n",
      "F:\\pythonProject\\ISAT_with_segment_anything\\ISAT\\segment_any\\segment_anything_hq\\modeling\\tiny_vit_sam.py:662: UserWarning: Overwriting tiny_vit_21m_384 in registry with ISAT.segment_any.segment_anything_hq.modeling.tiny_vit_sam.tiny_vit_21m_384. This is because the name being registered conflicts with an existing name. Please check if this is not expected.\n",
      "  return register_model(fn_wrapper)\n",
      "F:\\pythonProject\\ISAT_with_segment_anything\\ISAT\\segment_any\\segment_anything_hq\\modeling\\tiny_vit_sam.py:662: UserWarning: Overwriting tiny_vit_21m_512 in registry with ISAT.segment_any.segment_anything_hq.modeling.tiny_vit_sam.tiny_vit_21m_512. This is because the name being registered conflicts with an existing name. Please check if this is not expected.\n",
      "  return register_model(fn_wrapper)\n"
     ]
    }
   ],
   "source": [
    "%cd F:\\pythonProject\\ISAT_with_segment_anything\n",
    "!python ./main.py"
   ],
   "metadata": {
    "collapsed": false,
    "ExecuteTime": {
     "end_time": "2024-02-28T08:58:49.526851900Z",
     "start_time": "2024-02-28T08:54:33.783146500Z"
    }
   }
  },
  {
   "cell_type": "markdown",
   "source": [
    "3.根据遮罩和原图，生成新图"
   ],
   "metadata": {
    "collapsed": false
   }
  },
  {
   "cell_type": "code",
   "execution_count": 40,
   "outputs": [],
   "source": [
    "# 待处理的遮罩图像文件夹路径\n",
    "mask_dir = r'G:\\xiaowu-pic\\test22\\conflicts'\n",
    "# 待处理的源图片文件夹路径\n",
    "src = r'G:\\xiaowu-pic\\test22'\n",
    "# 输出的文件夹路径\n",
    "output = r'G:\\xiaowu-pic\\test22\\conflicts'\n",
    "# 设置的颜色值\n",
    "color_red = (255, 0, 0, 255)  # 红色\n",
    "color_green = (0, 255, 0, 255)\n",
    "# 文件名末尾添加的自定义后缀\n",
    "suffix_red = \"_r\"\n",
    "suffix_green = \"_g\""
   ],
   "metadata": {
    "collapsed": false,
    "ExecuteTime": {
     "end_time": "2024-02-28T08:59:11.871697200Z",
     "start_time": "2024-02-28T08:59:11.863657Z"
    }
   }
  },
  {
   "cell_type": "code",
   "execution_count": 42,
   "outputs": [
    {
     "name": "stdout",
     "output_type": "stream",
     "text": [
      "处理完毕，处理过的图片已保存到:  G:\\xiaowu-pic\\test22\\conflicts\n",
      "处理完毕，处理过的图片已保存到:  G:\\xiaowu-pic\\test22\\conflicts\n"
     ]
    }
   ],
   "source": [
    "from ISAT.scripts.mask_orgin_to_gb_img import convert_by_mask\n",
    "# 输出一个红背景，一个绿背景\n",
    "convert_by_mask(mask_dir, src, output, color_red, suffix_red)\n",
    "convert_by_mask(mask_dir, src, output, color_green, suffix_green)"
   ],
   "metadata": {
    "collapsed": false,
    "ExecuteTime": {
     "end_time": "2024-02-28T09:00:27.576646600Z",
     "start_time": "2024-02-28T09:00:24.532211500Z"
    }
   }
  },
  {
   "cell_type": "code",
   "execution_count": null,
   "outputs": [],
   "source": [],
   "metadata": {
    "collapsed": false
   }
  }
 ],
 "metadata": {
  "kernelspec": {
   "display_name": "Python 3",
   "language": "python",
   "name": "python3"
  },
  "language_info": {
   "codemirror_mode": {
    "name": "ipython",
    "version": 2
   },
   "file_extension": ".py",
   "mimetype": "text/x-python",
   "name": "python",
   "nbconvert_exporter": "python",
   "pygments_lexer": "ipython2",
   "version": "2.7.6"
  }
 },
 "nbformat": 4,
 "nbformat_minor": 0
}
