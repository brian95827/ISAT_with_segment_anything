{
 "cells": [
  {
   "cell_type": "markdown",
   "source": [
    "## 去除背景工作流"
   ],
   "metadata": {
    "collapsed": false
   }
  },
  {
   "cell_type": "markdown",
   "source": [
    "0.准备工作，将图片整理成1024*1024的结构大小(可选)"
   ],
   "metadata": {
    "collapsed": false
   }
  },
  {
   "cell_type": "code",
   "execution_count": null,
   "outputs": [],
   "source": [
    "directory_path = r\"G:\\xiaowu-pic\\test1\"\n",
    "output_dir = r'G:\\xiaowu-pic\\test22'"
   ],
   "metadata": {
    "collapsed": false
   }
  },
  {
   "cell_type": "code",
   "execution_count": null,
   "outputs": [],
   "source": [
    "%cd $directory_path\n",
    "# 创建目录，如果目录不存在的话\n",
    "!mkdir $output_dir\n",
    "# 将目录下的所有图片整理成 1024 * 1024的格式\n",
    "!for %i in (*.png) do ffmpeg -i \"%i\" -vf scale=1024:1024 \"{output_dir}\\\\%~ni_new.png\""
   ],
   "metadata": {
    "collapsed": false
   }
  },
  {
   "cell_type": "markdown",
   "source": [
    "1.将四通道图片转成三通道图片（四通道图片如果不转换则无法画遮罩）"
   ],
   "metadata": {
    "collapsed": false
   }
  },
  {
   "cell_type": "code",
   "execution_count": null,
   "outputs": [],
   "source": [
    "# 设置四通道文件目录（source_folder）, 输出目录（target_folder）\n",
    "source_folder = r'G:\\xiaowu-pic\\133_select_new'\n",
    "target_folder = r'G:\\xiaowu-pic\\test22'"
   ],
   "metadata": {
    "collapsed": false
   }
  },
  {
   "cell_type": "code",
   "execution_count": null,
   "outputs": [],
   "source": [
    "from ISAT.scripts.rgba2rgb import convert_images\n",
    "convert_images(source_folder, target_folder)"
   ],
   "metadata": {
    "collapsed": false
   }
  },
  {
   "cell_type": "markdown",
   "source": [
    "2.启动遮罩程序，画遮罩"
   ],
   "metadata": {
    "collapsed": false
   }
  },
  {
   "cell_type": "code",
   "execution_count": null,
   "outputs": [],
   "source": [
    "%cd F:\\pythonProject\\ISAT_with_segment_anything\n",
    "!python ./main.py"
   ],
   "metadata": {
    "collapsed": false
   }
  },
  {
   "cell_type": "markdown",
   "source": [
    "3.根据遮罩和原图，生成新图"
   ],
   "metadata": {
    "collapsed": false
   }
  },
  {
   "cell_type": "code",
   "execution_count": null,
   "outputs": [],
   "source": [
    "# 待处理的遮罩图像文件夹路径\n",
    "mask_dir = r'G:\\xiaowu-pic\\test22\\conflicts'\n",
    "# 待处理的源图片文件夹路径\n",
    "src = r'G:\\xiaowu-pic\\test22'\n",
    "# 输出的文件夹路径\n",
    "output = r'G:\\xiaowu-pic\\test22\\conflicts'\n",
    "# 设置的颜色值\n",
    "color_red = (255, 0, 0, 255)  # 红色\n",
    "color_green = (0, 255, 0, 255)\n",
    "# 文件名末尾添加的自定义后缀\n",
    "suffix_red = \"_r\"\n",
    "suffix_green = \"_g\""
   ],
   "metadata": {
    "collapsed": false
   }
  },
  {
   "cell_type": "code",
   "execution_count": null,
   "outputs": [],
   "source": [
    "from ISAT.scripts.mask_orgin_to_gb_img import convert_by_mask\n",
    "# 输出一个红背景，一个绿背景\n",
    "convert_by_mask(mask_dir, src, output, color_red, suffix_red)\n",
    "convert_by_mask(mask_dir, src, output, color_green, suffix_green)"
   ],
   "metadata": {
    "collapsed": false
   }
  },
  {
   "cell_type": "code",
   "execution_count": null,
   "outputs": [],
   "source": [],
   "metadata": {
    "collapsed": false
   }
  }
 ],
 "metadata": {
  "kernelspec": {
   "display_name": "Python 3",
   "language": "python",
   "name": "python3"
  },
  "language_info": {
   "codemirror_mode": {
    "name": "ipython",
    "version": 2
   },
   "file_extension": ".py",
   "mimetype": "text/x-python",
   "name": "python",
   "nbconvert_exporter": "python",
   "pygments_lexer": "ipython2",
   "version": "2.7.6"
  }
 },
 "nbformat": 4,
 "nbformat_minor": 0
}
